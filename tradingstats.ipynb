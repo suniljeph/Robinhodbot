{
 "cells": [
  {
   "cell_type": "code",
   "execution_count": 1,
   "metadata": {},
   "outputs": [],
   "source": [
    "import robin_stocks as r\n",
    "import pandas as pd\n",
    "import json\n",
    "\n",
    "def update_trade_history(symbols, holdings_data, file_name):\n",
    "    \"\"\" Writes data about a trade to a JSON file, containing the sell date, buy date,\n",
    "        price at which the stock was bought and sold at, etc.\n",
    "    Args:\n",
    "        symbols(list): List of strings, strings are the symbols of the stocks we've just sold and want to write data for.\n",
    "        holdings_data(dict): dict obtained from get_modified_holdings() method. We need this method rather than r.build_holdings() to get a stock's buying date\n",
    "        file_name(str): name of the file we are writing the data to. Should be \"tradehistory.txt\" if this method is normally called by scan_stocks().\n",
    "                        If you want to write to another file, create a new text file with two empty brackets with an empty line between them, to meet JSON formatting standards.\n",
    "    \"\"\"\n",
    "    with open(file_name) as json_file:\n",
    "        data = json.load(json_file)\n",
    "    current_time = str(pd.Timestamp(\"now\"))\n",
    "    data[current_time] = ({})\n",
    "    for symbol in symbols:\n",
    "        data[current_time].update({symbol: holdings_data[symbol]})\n",
    "    with open(file_name, 'w') as outfile:\n",
    "        json.dump(data, outfile)\n",
    "\n",
    "def read_trade_history(file_name):\n",
    "    \"\"\" Reads data about previous trades from JSON file and prints it out\n",
    "    Args:\n",
    "        file_name(str): name of the file we are reading from. Should be \"tradehistory.txt\" by default\n",
    "    \"\"\"\n",
    "    with open(file_name) as json_file:\n",
    "        data = json.load(json_file)\n",
    "    for sell_date, event in data.items():\n",
    "        print(sell_date + \": \")\n",
    "        for symbol, dict in event.items():\n",
    "            quantity, price, change, percent, bought_at = str(int(float(dict.get(\"quantity\")))), dict.get(\"price\"), dict.get(\"equity_change\"), dict.get(\"percent_change\"), dict.get(\"bought_at\")\n",
    "            print(\"\\tSold \" + quantity + \" shares of \"+ symbol + \" at \" + price + \", \" + change + \" (\" +\n",
    "                percent + \"%) profit/loss, bought on \" + bought_at)\n",
    "\n",
    "def get_total_gains_minus_dividends():\n",
    "    \"\"\" Returns the amount of money you've gained/lost through trading since the creation of your account, minus dividends\n",
    "    \"\"\"\n",
    "    profileData = r.load_portfolio_profile()\n",
    "    print(profileData)\n",
    "    allTransactions = r.get_bank_transfers()\n",
    "    deposits = sum(float(x['amount']) for x in allTransactions if (x['direction'] == 'deposit')) # and (x['state'] == 'completed'))\n",
    "    withdrawals = sum(float(x['amount']) for x in allTransactions if (x['direction'] == 'withdraw') and (x['state'] == 'completed'))\n",
    "    money_invested = deposits - withdrawals\n",
    "    print(deposits)\n",
    "    dividends = r.get_total_dividends()\n",
    "    percentDividend = dividends/money_invested*100\n",
    "    totalGainMinusDividends =float(profileData['extended_hours_equity'])-dividends-money_invested\n",
    "    return totalGainMinusDividends"
   ]
  },
  {
   "cell_type": "code",
   "execution_count": null,
   "metadata": {},
   "outputs": [],
   "source": []
  }
 ],
 "metadata": {
  "kernelspec": {
   "display_name": "Python 3",
   "language": "python",
   "name": "python3"
  },
  "language_info": {
   "codemirror_mode": {
    "name": "ipython",
    "version": 3
   },
   "file_extension": ".py",
   "mimetype": "text/x-python",
   "name": "python",
   "nbconvert_exporter": "python",
   "pygments_lexer": "ipython3",
   "version": "3.7.3"
  }
 },
 "nbformat": 4,
 "nbformat_minor": 2
}
