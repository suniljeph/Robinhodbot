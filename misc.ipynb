{
 "cells": [
  {
   "cell_type": "code",
   "execution_count": 1,
   "metadata": {},
   "outputs": [],
   "source": [
    "import robin_stocks as r\n",
    "import matplotlib.pyplot as plt\n",
    "import matplotlib.ticker as plticker\n",
    "\n",
    "def show_plot(price, firstIndicator, secondIndicator, dates, label1=\"\", label2=\"\"):\n",
    "    \"\"\"Displays a chart of the price and indicators for a stock\n",
    "    Args:\n",
    "        price(Pandas series): Series containing a stock's prices\n",
    "        firstIndicator(Pandas series): Series containing a technical indicator, such as 50-day moving average\n",
    "        secondIndicator(Pandas series): Series containing a technical indicator, such as 200-day moving average\n",
    "        dates(Pandas series): Series containing the dates that correspond to the prices and indicators\n",
    "        label1(str): Chart label of the first technical indicator\n",
    "        label2(str): Chart label of the first technical indicator\n",
    "    Returns:\n",
    "        True if the stock's current price is higher than it was five years ago, or the stock IPO'd within the last five years\n",
    "        False otherwise\n",
    "    \"\"\"\n",
    "    plt.figure(figsize=(10,5))\n",
    "    plt.title(symbol)\n",
    "    plt.plot(dates, price, label=\"Closing prices\")\n",
    "    plt.plot(dates, firstIndicator, label=label1)\n",
    "    plt.plot(dates, secondIndicator, label=label2)\n",
    "    plt.yticks(np.arange(price.min(), price.max(), step=((price.max()-price.min())/15.0)))\n",
    "    plt.legend()\n",
    "    plt.show()\n",
    "\n",
    "def get_equity_data():\n",
    "    \"\"\"Displays a pie chart of your portfolio holdings\n",
    "    \"\"\"\n",
    "    holdings_data = r.build_holdings()\n",
    "    equity_data = {}\n",
    "    for key, value in holdings_data.items():\n",
    "        equity_data[key] = {}\n",
    "        equity_data[key][name] = value.get('name')\n",
    "        equity_data[key][percentage] = value.get(\"percentage\")\n",
    "        equity_data[key][type]\n",
    "    fig1, ax1 = plt.subplots()\n",
    "    ax1.pie(equities, labels=labels, autopct='%1.1f%%',\n",
    "            shadow=True, startangle=90)\n",
    "    ax1.axis('equal')\n",
    "    plt.show()"
   ]
  },
  {
   "cell_type": "code",
   "execution_count": null,
   "metadata": {},
   "outputs": [],
   "source": []
  }
 ],
 "metadata": {
  "kernelspec": {
   "display_name": "Python 3",
   "language": "python",
   "name": "python3"
  },
  "language_info": {
   "codemirror_mode": {
    "name": "ipython",
    "version": 3
   },
   "file_extension": ".py",
   "mimetype": "text/x-python",
   "name": "python",
   "nbconvert_exporter": "python",
   "pygments_lexer": "ipython3",
   "version": "3.7.3"
  }
 },
 "nbformat": 4,
 "nbformat_minor": 2
}
